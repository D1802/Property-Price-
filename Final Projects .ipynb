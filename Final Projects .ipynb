{
 "cells": [
  {
   "cell_type": "code",
   "execution_count": 1,
   "id": "7a12d7b4",
   "metadata": {},
   "outputs": [],
   "source": [
    "import pandas as pd\n",
    "import seaborn as sns\n",
    "import numpy as np\n",
    "import matplotlib.pyplot as plt\n",
    "import warnings\n",
    "warnings.filterwarnings('ignore')"
   ]
  },
  {
   "cell_type": "code",
   "execution_count": 2,
   "id": "da4a5afc",
   "metadata": {},
   "outputs": [],
   "source": [
    "from sklearn import metrics\n",
    "from sklearn.cluster import DBSCAN\n",
    "from sklearn.preprocessing import StandardScaler\n",
    "from sklearn import datasets"
   ]
  },
  {
   "cell_type": "code",
   "execution_count": 3,
   "id": "6f774d5e",
   "metadata": {},
   "outputs": [],
   "source": [
    "data1=pd.read_csv('Property_Price_Train.csv')\n",
    "data2=pd.read_csv('Property_Price_Test.csv')"
   ]
  },
  {
   "cell_type": "code",
   "execution_count": 4,
   "id": "be748d9d",
   "metadata": {},
   "outputs": [],
   "source": [
    "# Utility_Type,\n",
    "# LowQualFinSF,\n",
    "# Underground_Half_Bathroom,\n",
    "# Kitchen_Above_Grade,\n",
    "# Three_Season_Lobby_Area,\n",
    "# Screen_Lobby_Area,\n",
    "# Pool_Area,\n",
    "# Miscellaneous_Value\n",
    "# Sale_Condition,\n",
    "# Sale_Type,\n",
    "# Miscellaneous_Feature,\n",
    "# Fence_Quality,\n",
    "# Pool_Quality,\n",
    "# Pavedd_Drive,\n",
    "# Garage_Condition,\n",
    "# Garage_Quality,\n",
    "# Functional_Rate"
   ]
  },
  {
   "cell_type": "code",
   "execution_count": 5,
   "id": "d3dc34e0",
   "metadata": {},
   "outputs": [
    {
     "data": {
      "text/plain": [
       "Norm      1444\n",
       "Feedr        6\n",
       "Artery       2\n",
       "RRNn         2\n",
       "PosN         2\n",
       "PosA         1\n",
       "RRAn         1\n",
       "RRAe         1\n",
       "Name: Condition2, dtype: int64"
      ]
     },
     "execution_count": 5,
     "metadata": {},
     "output_type": "execute_result"
    }
   ],
   "source": [
    "data1.Condition2.value_counts()"
   ]
  },
  {
   "cell_type": "code",
   "execution_count": 6,
   "id": "71991dd4",
   "metadata": {},
   "outputs": [
    {
     "data": {
      "text/html": [
       "<div>\n",
       "<style scoped>\n",
       "    .dataframe tbody tr th:only-of-type {\n",
       "        vertical-align: middle;\n",
       "    }\n",
       "\n",
       "    .dataframe tbody tr th {\n",
       "        vertical-align: top;\n",
       "    }\n",
       "\n",
       "    .dataframe thead th {\n",
       "        text-align: right;\n",
       "    }\n",
       "</style>\n",
       "<table border=\"1\" class=\"dataframe\">\n",
       "  <thead>\n",
       "    <tr style=\"text-align: right;\">\n",
       "      <th></th>\n",
       "      <th>Id</th>\n",
       "      <th>Building_Class</th>\n",
       "      <th>Zoning_Class</th>\n",
       "      <th>Lot_Extent</th>\n",
       "      <th>Lot_Size</th>\n",
       "      <th>Road_Type</th>\n",
       "      <th>Lane_Type</th>\n",
       "      <th>Property_Shape</th>\n",
       "      <th>Land_Outline</th>\n",
       "      <th>Utility_Type</th>\n",
       "      <th>...</th>\n",
       "      <th>Pool_Area</th>\n",
       "      <th>Pool_Quality</th>\n",
       "      <th>Fence_Quality</th>\n",
       "      <th>Miscellaneous_Feature</th>\n",
       "      <th>Miscellaneous_Value</th>\n",
       "      <th>Month_Sold</th>\n",
       "      <th>Year_Sold</th>\n",
       "      <th>Sale_Type</th>\n",
       "      <th>Sale_Condition</th>\n",
       "      <th>Sale_Price</th>\n",
       "    </tr>\n",
       "  </thead>\n",
       "  <tbody>\n",
       "    <tr>\n",
       "      <th>0</th>\n",
       "      <td>1</td>\n",
       "      <td>60</td>\n",
       "      <td>RLD</td>\n",
       "      <td>65.0</td>\n",
       "      <td>8450</td>\n",
       "      <td>Paved</td>\n",
       "      <td>NaN</td>\n",
       "      <td>Reg</td>\n",
       "      <td>Lvl</td>\n",
       "      <td>AllPub</td>\n",
       "      <td>...</td>\n",
       "      <td>0</td>\n",
       "      <td>NaN</td>\n",
       "      <td>NaN</td>\n",
       "      <td>NaN</td>\n",
       "      <td>0</td>\n",
       "      <td>2</td>\n",
       "      <td>2008</td>\n",
       "      <td>WD</td>\n",
       "      <td>Normal</td>\n",
       "      <td>208500</td>\n",
       "    </tr>\n",
       "  </tbody>\n",
       "</table>\n",
       "<p>1 rows × 81 columns</p>\n",
       "</div>"
      ],
      "text/plain": [
       "   Id  Building_Class Zoning_Class  Lot_Extent  Lot_Size Road_Type Lane_Type  \\\n",
       "0   1              60          RLD        65.0      8450     Paved       NaN   \n",
       "\n",
       "  Property_Shape Land_Outline Utility_Type  ... Pool_Area Pool_Quality  \\\n",
       "0            Reg          Lvl       AllPub  ...         0          NaN   \n",
       "\n",
       "  Fence_Quality Miscellaneous_Feature Miscellaneous_Value Month_Sold  \\\n",
       "0           NaN                   NaN                   0          2   \n",
       "\n",
       "  Year_Sold  Sale_Type  Sale_Condition  Sale_Price  \n",
       "0      2008         WD          Normal      208500  \n",
       "\n",
       "[1 rows x 81 columns]"
      ]
     },
     "execution_count": 6,
     "metadata": {},
     "output_type": "execute_result"
    }
   ],
   "source": [
    "data1.head(1)"
   ]
  },
  {
   "cell_type": "code",
   "execution_count": 7,
   "id": "4fddfc03",
   "metadata": {},
   "outputs": [
    {
     "data": {
      "text/html": [
       "<div>\n",
       "<style scoped>\n",
       "    .dataframe tbody tr th:only-of-type {\n",
       "        vertical-align: middle;\n",
       "    }\n",
       "\n",
       "    .dataframe tbody tr th {\n",
       "        vertical-align: top;\n",
       "    }\n",
       "\n",
       "    .dataframe thead th {\n",
       "        text-align: right;\n",
       "    }\n",
       "</style>\n",
       "<table border=\"1\" class=\"dataframe\">\n",
       "  <thead>\n",
       "    <tr style=\"text-align: right;\">\n",
       "      <th></th>\n",
       "      <th>Id</th>\n",
       "      <th>Building_Class</th>\n",
       "      <th>Zoning_Class</th>\n",
       "      <th>Lot_Extent</th>\n",
       "      <th>Lot_Size</th>\n",
       "      <th>Road_Type</th>\n",
       "      <th>Lane_Type</th>\n",
       "      <th>Property_Shape</th>\n",
       "      <th>Land_Outline</th>\n",
       "      <th>Utility_Type</th>\n",
       "      <th>...</th>\n",
       "      <th>Screen_Lobby_Area</th>\n",
       "      <th>Pool_Area</th>\n",
       "      <th>Pool_Quality</th>\n",
       "      <th>Fence_Quality</th>\n",
       "      <th>Miscellaneous_Feature</th>\n",
       "      <th>Miscellaneous_Value</th>\n",
       "      <th>Month_Sold</th>\n",
       "      <th>Year_Sold</th>\n",
       "      <th>Sale_Type</th>\n",
       "      <th>Sale_Condition</th>\n",
       "    </tr>\n",
       "  </thead>\n",
       "  <tbody>\n",
       "    <tr>\n",
       "      <th>0</th>\n",
       "      <td>1461</td>\n",
       "      <td>20</td>\n",
       "      <td>RHD</td>\n",
       "      <td>80.0</td>\n",
       "      <td>16104.819760</td>\n",
       "      <td>Paved</td>\n",
       "      <td>NaN</td>\n",
       "      <td>Reg</td>\n",
       "      <td>Lvl</td>\n",
       "      <td>AllPub</td>\n",
       "      <td>...</td>\n",
       "      <td>120</td>\n",
       "      <td>0</td>\n",
       "      <td>NaN</td>\n",
       "      <td>MnPrv</td>\n",
       "      <td>NaN</td>\n",
       "      <td>0</td>\n",
       "      <td>6</td>\n",
       "      <td>2010</td>\n",
       "      <td>WD</td>\n",
       "      <td>Normal</td>\n",
       "    </tr>\n",
       "    <tr>\n",
       "      <th>1</th>\n",
       "      <td>1462</td>\n",
       "      <td>20</td>\n",
       "      <td>RLD</td>\n",
       "      <td>81.0</td>\n",
       "      <td>15639.150810</td>\n",
       "      <td>Paved</td>\n",
       "      <td>NaN</td>\n",
       "      <td>IR1</td>\n",
       "      <td>Lvl</td>\n",
       "      <td>AllPub</td>\n",
       "      <td>...</td>\n",
       "      <td>0</td>\n",
       "      <td>0</td>\n",
       "      <td>NaN</td>\n",
       "      <td>NaN</td>\n",
       "      <td>Gar2</td>\n",
       "      <td>12500</td>\n",
       "      <td>6</td>\n",
       "      <td>2010</td>\n",
       "      <td>WD</td>\n",
       "      <td>Normal</td>\n",
       "    </tr>\n",
       "    <tr>\n",
       "      <th>2</th>\n",
       "      <td>1463</td>\n",
       "      <td>60</td>\n",
       "      <td>RLD</td>\n",
       "      <td>74.0</td>\n",
       "      <td>3849.428920</td>\n",
       "      <td>Paved</td>\n",
       "      <td>NaN</td>\n",
       "      <td>IR1</td>\n",
       "      <td>Lvl</td>\n",
       "      <td>AllPub</td>\n",
       "      <td>...</td>\n",
       "      <td>0</td>\n",
       "      <td>0</td>\n",
       "      <td>NaN</td>\n",
       "      <td>MnPrv</td>\n",
       "      <td>NaN</td>\n",
       "      <td>0</td>\n",
       "      <td>3</td>\n",
       "      <td>2010</td>\n",
       "      <td>WD</td>\n",
       "      <td>Normal</td>\n",
       "    </tr>\n",
       "    <tr>\n",
       "      <th>3</th>\n",
       "      <td>1464</td>\n",
       "      <td>60</td>\n",
       "      <td>RLD</td>\n",
       "      <td>78.0</td>\n",
       "      <td>4955.447942</td>\n",
       "      <td>Paved</td>\n",
       "      <td>NaN</td>\n",
       "      <td>IR1</td>\n",
       "      <td>Lvl</td>\n",
       "      <td>AllPub</td>\n",
       "      <td>...</td>\n",
       "      <td>0</td>\n",
       "      <td>0</td>\n",
       "      <td>NaN</td>\n",
       "      <td>NaN</td>\n",
       "      <td>NaN</td>\n",
       "      <td>0</td>\n",
       "      <td>6</td>\n",
       "      <td>2010</td>\n",
       "      <td>WD</td>\n",
       "      <td>Normal</td>\n",
       "    </tr>\n",
       "    <tr>\n",
       "      <th>4</th>\n",
       "      <td>1465</td>\n",
       "      <td>120</td>\n",
       "      <td>RLD</td>\n",
       "      <td>43.0</td>\n",
       "      <td>3046.604942</td>\n",
       "      <td>Paved</td>\n",
       "      <td>NaN</td>\n",
       "      <td>IR1</td>\n",
       "      <td>HLS</td>\n",
       "      <td>AllPub</td>\n",
       "      <td>...</td>\n",
       "      <td>144</td>\n",
       "      <td>0</td>\n",
       "      <td>NaN</td>\n",
       "      <td>NaN</td>\n",
       "      <td>NaN</td>\n",
       "      <td>0</td>\n",
       "      <td>1</td>\n",
       "      <td>2010</td>\n",
       "      <td>WD</td>\n",
       "      <td>Normal</td>\n",
       "    </tr>\n",
       "  </tbody>\n",
       "</table>\n",
       "<p>5 rows × 80 columns</p>\n",
       "</div>"
      ],
      "text/plain": [
       "     Id  Building_Class Zoning_Class  Lot_Extent      Lot_Size Road_Type  \\\n",
       "0  1461              20          RHD        80.0  16104.819760     Paved   \n",
       "1  1462              20          RLD        81.0  15639.150810     Paved   \n",
       "2  1463              60          RLD        74.0   3849.428920     Paved   \n",
       "3  1464              60          RLD        78.0   4955.447942     Paved   \n",
       "4  1465             120          RLD        43.0   3046.604942     Paved   \n",
       "\n",
       "  Lane_Type Property_Shape Land_Outline Utility_Type  ... Screen_Lobby_Area  \\\n",
       "0       NaN            Reg          Lvl       AllPub  ...               120   \n",
       "1       NaN            IR1          Lvl       AllPub  ...                 0   \n",
       "2       NaN            IR1          Lvl       AllPub  ...                 0   \n",
       "3       NaN            IR1          Lvl       AllPub  ...                 0   \n",
       "4       NaN            IR1          HLS       AllPub  ...               144   \n",
       "\n",
       "  Pool_Area Pool_Quality Fence_Quality Miscellaneous_Feature  \\\n",
       "0         0          NaN         MnPrv                   NaN   \n",
       "1         0          NaN           NaN                  Gar2   \n",
       "2         0          NaN         MnPrv                   NaN   \n",
       "3         0          NaN           NaN                   NaN   \n",
       "4         0          NaN           NaN                   NaN   \n",
       "\n",
       "  Miscellaneous_Value Month_Sold  Year_Sold  Sale_Type  Sale_Condition  \n",
       "0                   0          6       2010         WD          Normal  \n",
       "1               12500          6       2010         WD          Normal  \n",
       "2                   0          3       2010         WD          Normal  \n",
       "3                   0          6       2010         WD          Normal  \n",
       "4                   0          1       2010         WD          Normal  \n",
       "\n",
       "[5 rows x 80 columns]"
      ]
     },
     "execution_count": 7,
     "metadata": {},
     "output_type": "execute_result"
    }
   ],
   "source": [
    "data2.head()"
   ]
  },
  {
   "cell_type": "code",
   "execution_count": 8,
   "id": "85815c62",
   "metadata": {},
   "outputs": [
    {
     "data": {
      "text/plain": [
       "(1459, 81)"
      ]
     },
     "execution_count": 8,
     "metadata": {},
     "output_type": "execute_result"
    }
   ],
   "source": [
    "data1.shape"
   ]
  },
  {
   "cell_type": "code",
   "execution_count": 9,
   "id": "c94d87f4",
   "metadata": {},
   "outputs": [],
   "source": [
    "#Skewness Present\n",
    "#Brick_Veneer_Area,\n",
    "#Garage_Quality,\n",
    "#Functional_Rate,\n",
    "#Kitchen_Quality,\n",
    "#Air_Conditioning,\n",
    "#Electrical_System,\n",
    "#Heating_Type,\n",
    "#BsmtFinSF1,\n",
    "#BsmtFinSF2,\n",
    "#Basement_Condition\n",
    "#Exterior_Condition,\n",
    "#Exterior_Material,\n",
    "#Roof_Quality,\n",
    "#Roof_Design,\n",
    "#House_Type,\n",
    "#Condition1,\n",
    "#Condition2,\n",
    "#Property_Slope,\n",
    "#Lot_Configuration\n",
    "#Land_Outline,\n",
    "#Lane_Type,\n",
    "#Road_Type,\n",
    "#Zoning_Class,\n",
    "#Lot_Size,\n",
    "#Total_Basement_Area\n",
    "#First_Floor_Area,\n",
    "#Grade_Living_Area,\n",
    "#Sale_Price,\n",
    "\n",
    "##Max Skewness\n",
    "#Utility_Type,\n",
    "#LowQualFinSF,\n",
    "#Underground_Half_Bathroom,\n",
    "#Kitchen_Above_Grade,\n",
    "#Three_Season_Lobby_Area,\n",
    "#Screen_Lobby_Area,\n",
    "#Pool_Area,\n",
    "#Miscellaneous_Value\n",
    "#Sale_Condition,\n",
    "#Sale_Type,\n",
    "#Miscellaneous_Feature,\n",
    "#Fence_Quality,\n",
    "#Pool_Quality,\n",
    "#Pavedd_Drive,\n",
    "#Garage_Condition,\n",
    "#Garage_Quality,\n",
    "#Functional_Rate"
   ]
  },
  {
   "cell_type": "code",
   "execution_count": 10,
   "id": "26fe1c35",
   "metadata": {},
   "outputs": [],
   "source": [
    "#data1.Month_Sold.skew()"
   ]
  },
  {
   "cell_type": "code",
   "execution_count": 11,
   "id": "445cb954",
   "metadata": {},
   "outputs": [],
   "source": [
    "from sklearn.preprocessing import LabelEncoder\n",
    "le=LabelEncoder()"
   ]
  },
  {
   "cell_type": "code",
   "execution_count": 12,
   "id": "7d06a332",
   "metadata": {},
   "outputs": [],
   "source": [
    "data1.Lot_Extent=le.fit_transform(data1.Lot_Extent)\n",
    "data1.Brick_Veneer_Area=le.fit_transform(data1.Brick_Veneer_Area)\n",
    "data1.Garage_Built_Year=le.fit_transform(data1.Garage_Built_Year)\n",
    "data1.Sale_Condition=le.fit_transform(data1.Sale_Condition)\n",
    "data1.Sale_Type=le.fit_transform(data1.Sale_Type)\n",
    "data1.Miscellaneous_Feature=le.fit_transform(data1.Miscellaneous_Feature)\n",
    "data1.Fence_Quality=le.fit_transform(data1.Fence_Quality)\n",
    "data1.Pool_Quality=le.fit_transform(data1.Pool_Quality)\n",
    "data1.Pavedd_Drive=le.fit_transform(data1.Pavedd_Drive)\n",
    "data1.Garage_Condition=le.fit_transform(data1.Garage_Condition)\n",
    "data1.Garage_Quality=le.fit_transform(data1.Garage_Quality)\n",
    "data1.Garage_Finish_Year=le.fit_transform(data1.Garage_Finish_Year)\n",
    "data1.Garage=le.fit_transform(data1.Garage)\n",
    "data1.Fireplace_Quality=le.fit_transform(data1.Fireplace_Quality)\n",
    "data1.Functional_Rate=le.fit_transform(data1.Functional_Rate)\n",
    "data1.Kitchen_Quality=le.fit_transform(data1.Kitchen_Quality)\n",
    "data1.Electrical_System=le.fit_transform(data1.Electrical_System)\n",
    "data1.Air_Conditioning=le.fit_transform(data1.Air_Conditioning)\n",
    "data1.Heating_Quality=le.fit_transform(data1.Heating_Quality)\n",
    "data1.Heating_Type=le.fit_transform(data1.Heating_Type)\n",
    "data1.BsmtFinType2=le.fit_transform(data1.BsmtFinType2)\n",
    "data1.BsmtFinType1=le.fit_transform(data1.BsmtFinType1)\n",
    "data1.Exposure_Level=le.fit_transform(data1.Exposure_Level)\n",
    "data1.Basement_Condition=le.fit_transform(data1.Basement_Condition)\n",
    "data1.Basement_Height=le.fit_transform(data1.Basement_Height)\n",
    "data1.Foundation_Type=le.fit_transform(data1.Foundation_Type)\n",
    "data1.Exterior_Condition=le.fit_transform(data1.Exterior_Condition)\n",
    "data1.Exterior_Material=le.fit_transform(data1.Exterior_Material)\n",
    "data1.Brick_Veneer_Type=le.fit_transform(data1.Brick_Veneer_Type)\n",
    "data1.Exterior2nd=le.fit_transform(data1.Exterior2nd)\n",
    "data1.Exterior1st=le.fit_transform(data1.Exterior1st)\n",
    "data1.Roof_Quality=le.fit_transform(data1.Roof_Quality)\n",
    "data1.Roof_Design=le.fit_transform(data1.Roof_Design)\n",
    "data1.House_Design=le.fit_transform(data1.House_Design)\n",
    "data1.House_Type=le.fit_transform(data1.House_Type)\n",
    "data1.Condition2=le.fit_transform(data1.Condition2)\n",
    "data1.Condition1=le.fit_transform(data1.Condition1)\n",
    "data1.Neighborhood=le.fit_transform(data1.Neighborhood)\n",
    "data1.Property_Slope=le.fit_transform(data1.Property_Slope)\n",
    "data1.Lot_Configuration=le.fit_transform(data1.Lot_Configuration)\n",
    "data1.Utility_Type=le.fit_transform(data1.Utility_Type)\n",
    "data1.Land_Outline=le.fit_transform(data1.Land_Outline)\n",
    "data1.Property_Shape=le.fit_transform(data1.Property_Shape)\n",
    "data1.Lane_Type=le.fit_transform(data1.Lane_Type)\n",
    "data1.Road_Type=le.fit_transform(data1.Road_Type)\n",
    "data1.Zoning_Class=le.fit_transform(data1.Zoning_Class)"
   ]
  },
  {
   "cell_type": "code",
   "execution_count": 13,
   "id": "32cd3a14",
   "metadata": {},
   "outputs": [],
   "source": [
    "#Cleaning for the testing a Data\n",
    "data2.Lot_Extent=le.fit_transform(data2.Lot_Extent)\n",
    "data2.Brick_Veneer_Area=le.fit_transform(data2.Brick_Veneer_Area)\n",
    "data2.Garage_Built_Year=le.fit_transform(data2.Garage_Built_Year)\n",
    "data2.Sale_Condition=le.fit_transform(data2.Sale_Condition)\n",
    "data2.Sale_Type=le.fit_transform(data2.Sale_Type)\n",
    "data2.Miscellaneous_Feature=le.fit_transform(data2.Miscellaneous_Feature)\n",
    "data2.Fence_Quality=le.fit_transform(data2.Fence_Quality)\n",
    "data2.Pool_Quality=le.fit_transform(data2.Pool_Quality)\n",
    "data2.Pavedd_Drive=le.fit_transform(data2.Pavedd_Drive)\n",
    "data2.Garage_Condition=le.fit_transform(data2.Garage_Condition)\n",
    "data2.Garage_Quality=le.fit_transform(data2.Garage_Quality)\n",
    "data2.Garage_Finish_Year=le.fit_transform(data2.Garage_Finish_Year)\n",
    "data2.Garage=le.fit_transform(data2.Garage)\n",
    "data2.Fireplace_Quality=le.fit_transform(data2.Fireplace_Quality)\n",
    "data2.Functional_Rate=le.fit_transform(data2.Functional_Rate)\n",
    "data2.Kitchen_Quality=le.fit_transform(data2.Kitchen_Quality)\n",
    "data2.Electrical_System=le.fit_transform(data2.Electrical_System)\n",
    "data2.Air_Conditioning=le.fit_transform(data2.Air_Conditioning)\n",
    "data2.Heating_Quality=le.fit_transform(data2.Heating_Quality)\n",
    "data2.Heating_Type=le.fit_transform(data2.Heating_Type)\n",
    "data2.BsmtFinType2=le.fit_transform(data2.BsmtFinType2)\n",
    "data2.BsmtFinType1=le.fit_transform(data2.BsmtFinType1)\n",
    "data2.Exposure_Level=le.fit_transform(data2.Exposure_Level)\n",
    "data2.Basement_Condition=le.fit_transform(data2.Basement_Condition)\n",
    "data2.Basement_Height=le.fit_transform(data2.Basement_Height)\n",
    "data2.Foundation_Type=le.fit_transform(data2.Foundation_Type)\n",
    "data2.Exterior_Condition=le.fit_transform(data2.Exterior_Condition)\n",
    "data2.Exterior_Material=le.fit_transform(data2.Exterior_Material)\n",
    "data2.Brick_Veneer_Type=le.fit_transform(data2.Brick_Veneer_Type)\n",
    "data2.Exterior2nd=le.fit_transform(data2.Exterior2nd)\n",
    "data2.Exterior1st=le.fit_transform(data2.Exterior1st)\n",
    "data2.Roof_Quality=le.fit_transform(data2.Roof_Quality)\n",
    "data2.Roof_Design=le.fit_transform(data2.Roof_Design)\n",
    "data2.House_Design=le.fit_transform(data2.House_Design)\n",
    "data2.House_Type=le.fit_transform(data2.House_Type)\n",
    "data2.Condition2=le.fit_transform(data2.Condition2)\n",
    "data2.Condition1=le.fit_transform(data2.Condition1)\n",
    "data2.Neighborhood=le.fit_transform(data2.Neighborhood)\n",
    "data2.Property_Slope=le.fit_transform(data2.Property_Slope)\n",
    "data2.Lot_Configuration=le.fit_transform(data2.Lot_Configuration)\n",
    "data2.Utility_Type=le.fit_transform(data2.Utility_Type)\n",
    "data2.Land_Outline=le.fit_transform(data2.Land_Outline)\n",
    "data2.Property_Shape=le.fit_transform(data2.Property_Shape)\n",
    "data2.Lane_Type=le.fit_transform(data2.Lane_Type)\n",
    "data2.Road_Type=le.fit_transform(data2.Road_Type)\n",
    "data2.Zoning_Class=le.fit_transform(data2.Zoning_Class)\n",
    "data2.Lot_Size=le.fit_transform(data2.Lot_Size)"
   ]
  },
  {
   "cell_type": "code",
   "execution_count": 14,
   "id": "88881bd2",
   "metadata": {},
   "outputs": [],
   "source": [
    "GFG = pd.ExcelWriter('Property_Price_Train.xlsx')\n",
    "data1.to_excel(GFG, index=False)\n",
    " \n",
    "GFG.save()"
   ]
  },
  {
   "cell_type": "code",
   "execution_count": 15,
   "id": "6e18396d",
   "metadata": {},
   "outputs": [
    {
     "data": {
      "text/plain": [
       "Id                     0\n",
       "Building_Class         0\n",
       "Zoning_Class           0\n",
       "Lot_Extent             0\n",
       "Lot_Size               0\n",
       "                      ..\n",
       "Miscellaneous_Value    0\n",
       "Month_Sold             0\n",
       "Year_Sold              0\n",
       "Sale_Type              0\n",
       "Sale_Condition         0\n",
       "Length: 80, dtype: int64"
      ]
     },
     "execution_count": 15,
     "metadata": {},
     "output_type": "execute_result"
    }
   ],
   "source": [
    "data2.isnull().sum()"
   ]
  },
  {
   "cell_type": "code",
   "execution_count": 16,
   "id": "c6c93fa5",
   "metadata": {},
   "outputs": [],
   "source": [
    "y=data1.iloc[:,-1]"
   ]
  },
  {
   "cell_type": "code",
   "execution_count": 17,
   "id": "be4f9ef0",
   "metadata": {},
   "outputs": [
    {
     "data": {
      "text/plain": [
       "<matplotlib.collections.PathCollection at 0x1d6b3e632e0>"
      ]
     },
     "execution_count": 17,
     "metadata": {},
     "output_type": "execute_result"
    },
    {
     "data": {
      "image/png": "[encoded data removed]",
      "text/plain": [
       "<Figure size 432x288 with 1 Axes>"
      ]
     },
     "metadata": {
      "needs_background": "light"
     },
     "output_type": "display_data"
    }
   ],
   "source": [
    "plt.scatter(data1.Sale_Price,data1.W_Deck_Area)"
   ]
  },
  {
   "cell_type": "code",
   "execution_count": 18,
   "id": "31d94073",
   "metadata": {},
   "outputs": [],
   "source": [
    "#Null Values not present\n",
    "#Zoning_class,Road_type,Lane_type,Property_shape,Utility_Type,Lot_Configuration,Property_Slope,Neighborhood,Condition1,Condition2\n",
    "#Heating_Type,House_Design,Roof_Design,Roof_Quality,Exterior1st,Exterior2nd,Brick_Veneer_Type,Exterior_Material,Exterior_Condition\n",
    "#Foundation_Type,Basement_Height,Basement_Condition,Exposure_Level,BsmtFinType1,BsmtFinType2,Heating_Type,Heating_Quality,\n",
    "#Air_Conditioning,Electrical_System,Kitchen_Quality,Functional_Rate,Fireplace_Quality,Garage,Garage_Finish_Year,Garage_Quality,\n",
    "#Garage_Condition,Pavedd_Drive,Pool_Quality,Fence_Quality,Miscellaneous_Feature,Sale_Type,Sale_Condition\n"
   ]
  },
  {
   "cell_type": "code",
   "execution_count": 19,
   "id": "e3f60992",
   "metadata": {},
   "outputs": [],
   "source": [
    "#data2=data2[data2.Miscellaneous_Value>0]\n",
    "#data2.Miscellaneous_Value=np.log(data2.Miscellaneous_Value)#Skewness is treated"
   ]
  },
  {
   "cell_type": "code",
   "execution_count": 20,
   "id": "eb3e3004",
   "metadata": {},
   "outputs": [],
   "source": [
    "#data1=data1[data1.Miscellaneous_Value>0]\n",
    "#data1.Miscellaneous_Value=np.log(data1.Miscellaneous_Value)"
   ]
  },
  {
   "cell_type": "code",
   "execution_count": 21,
   "id": "f316d2d0",
   "metadata": {},
   "outputs": [],
   "source": [
    "#data1.LowQualFinSF.skew()"
   ]
  },
  {
   "cell_type": "code",
   "execution_count": 22,
   "id": "227861c2",
   "metadata": {},
   "outputs": [
    {
     "data": {
      "text/plain": [
       "(1459, 81)"
      ]
     },
     "execution_count": 22,
     "metadata": {},
     "output_type": "execute_result"
    }
   ],
   "source": [
    "data1.shape"
   ]
  },
  {
   "cell_type": "code",
   "execution_count": 23,
   "id": "052ba6bc",
   "metadata": {},
   "outputs": [
    {
     "data": {
      "text/plain": [
       "Index(['Id', 'Building_Class', 'Zoning_Class', 'Lot_Extent', 'Lot_Size',\n",
       "       'Road_Type', 'Lane_Type', 'Property_Shape', 'Land_Outline',\n",
       "       'Utility_Type', 'Lot_Configuration', 'Property_Slope', 'Neighborhood',\n",
       "       'Condition1', 'Condition2', 'House_Type', 'House_Design',\n",
       "       'Overall_Material', 'House_Condition', 'Construction_Year',\n",
       "       'Remodel_Year', 'Roof_Design', 'Roof_Quality', 'Exterior1st',\n",
       "       'Exterior2nd', 'Brick_Veneer_Type', 'Brick_Veneer_Area',\n",
       "       'Exterior_Material', 'Exterior_Condition', 'Foundation_Type',\n",
       "       'Basement_Height', 'Basement_Condition', 'Exposure_Level',\n",
       "       'BsmtFinType1', 'BsmtFinSF1', 'BsmtFinType2', 'BsmtFinSF2', 'BsmtUnfSF',\n",
       "       'Total_Basement_Area', 'Heating_Type', 'Heating_Quality',\n",
       "       'Air_Conditioning', 'Electrical_System', 'First_Floor_Area',\n",
       "       'Second_Floor_Area', 'LowQualFinSF', 'Grade_Living_Area',\n",
       "       'Underground_Full_Bathroom', 'Underground_Half_Bathroom',\n",
       "       'Full_Bathroom_Above_Grade', 'Half_Bathroom_Above_Grade',\n",
       "       'Bedroom_Above_Grade', 'Kitchen_Above_Grade', 'Kitchen_Quality',\n",
       "       'Rooms_Above_Grade', 'Functional_Rate', 'Fireplaces',\n",
       "       'Fireplace_Quality', 'Garage', 'Garage_Built_Year',\n",
       "       'Garage_Finish_Year', 'Garage_Size', 'Garage_Area', 'Garage_Quality',\n",
       "       'Garage_Condition', 'Pavedd_Drive', 'W_Deck_Area', 'Open_Lobby_Area',\n",
       "       'Enclosed_Lobby_Area', 'Three_Season_Lobby_Area', 'Screen_Lobby_Area',\n",
       "       'Pool_Area', 'Pool_Quality', 'Fence_Quality', 'Miscellaneous_Feature',\n",
       "       'Miscellaneous_Value', 'Month_Sold', 'Year_Sold', 'Sale_Type',\n",
       "       'Sale_Condition', 'Sale_Price'],\n",
       "      dtype='object')"
      ]
     },
     "execution_count": 23,
     "metadata": {},
     "output_type": "execute_result"
    }
   ],
   "source": [
    "data1.columns"
   ]
  },
  {
   "cell_type": "code",
   "execution_count": 24,
   "id": "25682c0e",
   "metadata": {},
   "outputs": [
    {
     "data": {
      "text/plain": [
       "<AxesSubplot:ylabel='Density'>"
      ]
     },
     "execution_count": 24,
     "metadata": {},
     "output_type": "execute_result"
    },
    {
     "data": {
      "image/png": "[encoded data removed]",
      "text/plain": [
       "<Figure size 432x288 with 1 Axes>"
      ]
     },
     "metadata": {
      "needs_background": "light"
     },
     "output_type": "display_data"
    }
   ],
   "source": [
    "sns.distplot(data1)"
   ]
  },
  {
   "cell_type": "code",
   "execution_count": 25,
   "id": "514bd50f",
   "metadata": {},
   "outputs": [
    {
     "data": {
      "text/plain": [
       "Id                int64\n",
       "Building_Class    int64\n",
       "Zoning_Class      int32\n",
       "Lot_Extent        int64\n",
       "Lot_Size          int64\n",
       "                  ...  \n",
       "Month_Sold        int64\n",
       "Year_Sold         int64\n",
       "Sale_Type         int32\n",
       "Sale_Condition    int32\n",
       "Sale_Price        int64\n",
       "Length: 81, dtype: object"
      ]
     },
     "execution_count": 25,
     "metadata": {},
     "output_type": "execute_result"
    }
   ],
   "source": [
    "data1.dtypes"
   ]
  },
  {
   "cell_type": "code",
   "execution_count": 26,
   "id": "82754a0c",
   "metadata": {},
   "outputs": [
    {
     "data": {
      "text/plain": [
       "<AxesSubplot:xlabel='Foundation_Type', ylabel='count'>"
      ]
     },
     "execution_count": 26,
     "metadata": {},
     "output_type": "execute_result"
    },
    {
     "data": {
      "image/png": "[encoded data removed]",
      "text/plain": [
       "<Figure size 1440x2160 with 21 Axes>"
      ]
     },
     "metadata": {
      "needs_background": "light"
     },
     "output_type": "display_data"
    }
   ],
   "source": [
    "fig,ax = plt.subplots(7,3,figsize = (20,30))\n",
    "sns.countplot(\"Sale_Condition\",data=data1,ax=ax[0][0])\n",
    "sns.countplot(\"Sale_Type\",data=data1,ax=ax[0][1])\n",
    "sns.countplot(\"Zoning_Class\",data=data1,ax=ax[0][2])\n",
    "sns.countplot(\"Road_Type\",data=data1,ax=ax[1][0])\n",
    "sns.countplot(\"Lane_Type\",data=data1,ax=ax[1][1])\n",
    "sns.countplot(\"Property_Shape\",data=data1,ax=ax[1][2])\n",
    "sns.countplot(data1.Land_Outline,ax=ax[2][0])\n",
    "sns.countplot(data1.Lot_Configuration,ax=ax[2][1])\n",
    "sns.countplot(data1.Property_Slope,ax=ax[2][2])\n",
    "sns.countplot(data1.Neighborhood,ax=ax[3][0])\n",
    "sns.countplot(data1.Condition1,ax=ax[3][1])\n",
    "sns.countplot(data1.Condition2,ax=ax[3][2])\n",
    "sns.countplot(data1.House_Type,ax=ax[4][0])\n",
    "sns.countplot(data1.House_Design,ax=ax[4][1])\n",
    "sns.countplot(data1.Roof_Design,ax=ax[4][2])\n",
    "sns.countplot(data1.Exterior1st,ax=ax[5][0])\n",
    "sns.countplot(data1.Exterior2nd,ax=ax[5][1])\n",
    "sns.countplot(data1.Brick_Veneer_Type,ax=ax[5][2])\n",
    "sns.countplot(data1.Exterior_Material,ax=ax[6][0])\n",
    "sns.countplot(data1.Exterior_Condition,ax=ax[6][1])\n",
    "sns.countplot(data1.Foundation_Type,ax=ax[6][2])\n",
    "\n",
    "\n"
   ]
  },
  {
   "cell_type": "code",
   "execution_count": 27,
   "id": "46efcef6",
   "metadata": {
    "scrolled": true
   },
   "outputs": [
    {
     "data": {
      "text/plain": [
       "<AxesSubplot:xlabel='Garage_Built_Year', ylabel='count'>"
      ]
     },
     "execution_count": 27,
     "metadata": {},
     "output_type": "execute_result"
    },
    {
     "data": {
      "image/png": "[encoded data removed]",
      "text/plain": [
       "<Figure size 1440x720 with 6 Axes>"
      ]
     },
     "metadata": {
      "needs_background": "light"
     },
     "output_type": "display_data"
    }
   ],
   "source": [
    "fig,ax = plt.subplots(2,3,figsize = (20,10))\n",
    "sns.countplot(data1.Basement_Height,ax=ax[0][0])\n",
    "sns.countplot(data1.Basement_Condition,ax=ax[0][1])\n",
    "sns.countplot(data1.Exterior_Condition,ax=ax[0][2])\n",
    "sns.countplot(data1.Lot_Extent,ax=ax[1][0])\n",
    "sns.countplot(data1.Brick_Veneer_Area,ax=ax[1][1])\n",
    "sns.countplot(data1.Garage_Built_Year,ax=ax[1][2])\n",
    "\n"
   ]
  },
  {
   "cell_type": "code",
   "execution_count": 28,
   "id": "a2757eaf",
   "metadata": {},
   "outputs": [
    {
     "data": {
      "text/html": [
       "<div>\n",
       "<style scoped>\n",
       "    .dataframe tbody tr th:only-of-type {\n",
       "        vertical-align: middle;\n",
       "    }\n",
       "\n",
       "    .dataframe tbody tr th {\n",
       "        vertical-align: top;\n",
       "    }\n",
       "\n",
       "    .dataframe thead th {\n",
       "        text-align: right;\n",
       "    }\n",
       "</style>\n",
       "<table border=\"1\" class=\"dataframe\">\n",
       "  <thead>\n",
       "    <tr style=\"text-align: right;\">\n",
       "      <th></th>\n",
       "      <th>Id</th>\n",
       "      <th>Building_Class</th>\n",
       "      <th>Zoning_Class</th>\n",
       "      <th>Lot_Extent</th>\n",
       "      <th>Lot_Size</th>\n",
       "      <th>Road_Type</th>\n",
       "      <th>Lane_Type</th>\n",
       "      <th>Property_Shape</th>\n",
       "      <th>Land_Outline</th>\n",
       "      <th>Utility_Type</th>\n",
       "      <th>...</th>\n",
       "      <th>Pool_Area</th>\n",
       "      <th>Pool_Quality</th>\n",
       "      <th>Fence_Quality</th>\n",
       "      <th>Miscellaneous_Feature</th>\n",
       "      <th>Miscellaneous_Value</th>\n",
       "      <th>Month_Sold</th>\n",
       "      <th>Year_Sold</th>\n",
       "      <th>Sale_Type</th>\n",
       "      <th>Sale_Condition</th>\n",
       "      <th>Sale_Price</th>\n",
       "    </tr>\n",
       "  </thead>\n",
       "  <tbody>\n",
       "    <tr>\n",
       "      <th>Id</th>\n",
       "      <td>1.000000</td>\n",
       "      <td>0.012207</td>\n",
       "      <td>-0.006048</td>\n",
       "      <td>0.000738</td>\n",
       "      <td>-0.033191</td>\n",
       "      <td>0.008849</td>\n",
       "      <td>-0.001822</td>\n",
       "      <td>0.031270</td>\n",
       "      <td>-0.020053</td>\n",
       "      <td>0.013369</td>\n",
       "      <td>...</td>\n",
       "      <td>0.057184</td>\n",
       "      <td>-0.034038</td>\n",
       "      <td>-0.000942</td>\n",
       "      <td>0.036868</td>\n",
       "      <td>-0.006145</td>\n",
       "      <td>0.021336</td>\n",
       "      <td>0.000548</td>\n",
       "      <td>0.019422</td>\n",
       "      <td>-0.006059</td>\n",
       "      <td>-0.021441</td>\n",
       "    </tr>\n",
       "    <tr>\n",
       "      <th>Building_Class</th>\n",
       "      <td>0.012207</td>\n",
       "      <td>1.000000</td>\n",
       "      <td>0.035882</td>\n",
       "      <td>-0.233365</td>\n",
       "      <td>-0.139852</td>\n",
       "      <td>-0.024937</td>\n",
       "      <td>-0.105878</td>\n",
       "      <td>0.119793</td>\n",
       "      <td>-0.002752</td>\n",
       "      <td>-0.022865</td>\n",
       "      <td>...</td>\n",
       "      <td>0.008244</td>\n",
       "      <td>-0.005184</td>\n",
       "      <td>0.086662</td>\n",
       "      <td>0.034984</td>\n",
       "      <td>-0.007738</td>\n",
       "      <td>-0.013660</td>\n",
       "      <td>-0.021330</td>\n",
       "      <td>0.012656</td>\n",
       "      <td>-0.024822</td>\n",
       "      <td>-0.084563</td>\n",
       "    </tr>\n",
       "    <tr>\n",
       "      <th>Zoning_Class</th>\n",
       "      <td>-0.006048</td>\n",
       "      <td>0.035882</td>\n",
       "      <td>1.000000</td>\n",
       "      <td>-0.084300</td>\n",
       "      <td>-0.034453</td>\n",
       "      <td>0.087656</td>\n",
       "      <td>-0.052033</td>\n",
       "      <td>0.061923</td>\n",
       "      <td>-0.017845</td>\n",
       "      <td>-0.001193</td>\n",
       "      <td>...</td>\n",
       "      <td>-0.003130</td>\n",
       "      <td>0.002884</td>\n",
       "      <td>-0.061279</td>\n",
       "      <td>0.000679</td>\n",
       "      <td>0.009290</td>\n",
       "      <td>-0.031500</td>\n",
       "      <td>-0.020623</td>\n",
       "      <td>0.097450</td>\n",
       "      <td>0.009500</td>\n",
       "      <td>-0.166896</td>\n",
       "    </tr>\n",
       "    <tr>\n",
       "      <th>Lot_Extent</th>\n",
       "      <td>0.000738</td>\n",
       "      <td>-0.233365</td>\n",
       "      <td>-0.084300</td>\n",
       "      <td>1.000000</td>\n",
       "      <td>0.261663</td>\n",
       "      <td>-0.023532</td>\n",
       "      <td>0.151485</td>\n",
       "      <td>-0.356086</td>\n",
       "      <td>0.000440</td>\n",
       "      <td>0.046062</td>\n",
       "      <td>...</td>\n",
       "      <td>0.062353</td>\n",
       "      <td>-0.062116</td>\n",
       "      <td>-0.040666</td>\n",
       "      <td>-0.055588</td>\n",
       "      <td>0.065088</td>\n",
       "      <td>-0.005936</td>\n",
       "      <td>0.021644</td>\n",
       "      <td>0.005389</td>\n",
       "      <td>0.017897</td>\n",
       "      <td>0.213776</td>\n",
       "    </tr>\n",
       "    <tr>\n",
       "      <th>Lot_Size</th>\n",
       "      <td>-0.033191</td>\n",
       "      <td>-0.139852</td>\n",
       "      <td>-0.034453</td>\n",
       "      <td>0.261663</td>\n",
       "      <td>1.000000</td>\n",
       "      <td>-0.197129</td>\n",
       "      <td>0.060116</td>\n",
       "      <td>-0.165317</td>\n",
       "      <td>-0.149076</td>\n",
       "      <td>0.010122</td>\n",
       "      <td>...</td>\n",
       "      <td>0.077670</td>\n",
       "      <td>-0.065165</td>\n",
       "      <td>0.036052</td>\n",
       "      <td>-0.103537</td>\n",
       "      <td>0.038064</td>\n",
       "      <td>0.001200</td>\n",
       "      <td>-0.014256</td>\n",
       "      <td>0.012305</td>\n",
       "      <td>0.034178</td>\n",
       "      <td>0.263843</td>\n",
       "    </tr>\n",
       "    <tr>\n",
       "      <th>...</th>\n",
       "      <td>...</td>\n",
       "      <td>...</td>\n",
       "      <td>...</td>\n",
       "      <td>...</td>\n",
       "      <td>...</td>\n",
       "      <td>...</td>\n",
       "      <td>...</td>\n",
       "      <td>...</td>\n",
       "      <td>...</td>\n",
       "      <td>...</td>\n",
       "      <td>...</td>\n",
       "      <td>...</td>\n",
       "      <td>...</td>\n",
       "      <td>...</td>\n",
       "      <td>...</td>\n",
       "      <td>...</td>\n",
       "      <td>...</td>\n",
       "      <td>...</td>\n",
       "      <td>...</td>\n",
       "      <td>...</td>\n",
       "      <td>...</td>\n",
       "    </tr>\n",
       "    <tr>\n",
       "      <th>Month_Sold</th>\n",
       "      <td>0.021336</td>\n",
       "      <td>-0.013660</td>\n",
       "      <td>-0.031500</td>\n",
       "      <td>-0.005936</td>\n",
       "      <td>0.001200</td>\n",
       "      <td>0.003695</td>\n",
       "      <td>0.013114</td>\n",
       "      <td>-0.033400</td>\n",
       "      <td>-0.011573</td>\n",
       "      <td>-0.051554</td>\n",
       "      <td>...</td>\n",
       "      <td>-0.033742</td>\n",
       "      <td>0.036374</td>\n",
       "      <td>-0.009855</td>\n",
       "      <td>-0.014177</td>\n",
       "      <td>-0.006502</td>\n",
       "      <td>1.000000</td>\n",
       "      <td>-0.145712</td>\n",
       "      <td>-0.047362</td>\n",
       "      <td>0.013338</td>\n",
       "      <td>0.046401</td>\n",
       "    </tr>\n",
       "    <tr>\n",
       "      <th>Year_Sold</th>\n",
       "      <td>0.000548</td>\n",
       "      <td>-0.021330</td>\n",
       "      <td>-0.020623</td>\n",
       "      <td>0.021644</td>\n",
       "      <td>-0.014256</td>\n",
       "      <td>-0.025050</td>\n",
       "      <td>0.020921</td>\n",
       "      <td>0.036384</td>\n",
       "      <td>0.020478</td>\n",
       "      <td>0.023355</td>\n",
       "      <td>...</td>\n",
       "      <td>-0.059683</td>\n",
       "      <td>0.060899</td>\n",
       "      <td>-0.035412</td>\n",
       "      <td>-0.055981</td>\n",
       "      <td>0.004915</td>\n",
       "      <td>-0.145712</td>\n",
       "      <td>1.000000</td>\n",
       "      <td>-0.002357</td>\n",
       "      <td>0.003861</td>\n",
       "      <td>-0.028884</td>\n",
       "    </tr>\n",
       "    <tr>\n",
       "      <th>Sale_Type</th>\n",
       "      <td>0.019422</td>\n",
       "      <td>0.012656</td>\n",
       "      <td>0.097450</td>\n",
       "      <td>0.005389</td>\n",
       "      <td>0.012305</td>\n",
       "      <td>0.014326</td>\n",
       "      <td>0.008153</td>\n",
       "      <td>-0.001073</td>\n",
       "      <td>-0.025823</td>\n",
       "      <td>-0.126768</td>\n",
       "      <td>...</td>\n",
       "      <td>0.011024</td>\n",
       "      <td>-0.013606</td>\n",
       "      <td>-0.006253</td>\n",
       "      <td>-0.003352</td>\n",
       "      <td>0.015793</td>\n",
       "      <td>-0.047362</td>\n",
       "      <td>-0.002357</td>\n",
       "      <td>1.000000</td>\n",
       "      <td>0.184031</td>\n",
       "      <td>-0.054826</td>\n",
       "    </tr>\n",
       "    <tr>\n",
       "      <th>Sale_Condition</th>\n",
       "      <td>-0.006059</td>\n",
       "      <td>-0.024822</td>\n",
       "      <td>0.009500</td>\n",
       "      <td>0.017897</td>\n",
       "      <td>0.034178</td>\n",
       "      <td>0.006055</td>\n",
       "      <td>0.035684</td>\n",
       "      <td>-0.038234</td>\n",
       "      <td>0.033766</td>\n",
       "      <td>-0.089698</td>\n",
       "      <td>...</td>\n",
       "      <td>-0.067243</td>\n",
       "      <td>0.097418</td>\n",
       "      <td>0.100619</td>\n",
       "      <td>0.003165</td>\n",
       "      <td>0.013040</td>\n",
       "      <td>0.013338</td>\n",
       "      <td>0.003861</td>\n",
       "      <td>0.184031</td>\n",
       "      <td>1.000000</td>\n",
       "      <td>0.213168</td>\n",
       "    </tr>\n",
       "    <tr>\n",
       "      <th>Sale_Price</th>\n",
       "      <td>-0.021441</td>\n",
       "      <td>-0.084563</td>\n",
       "      <td>-0.166896</td>\n",
       "      <td>0.213776</td>\n",
       "      <td>0.263843</td>\n",
       "      <td>0.041057</td>\n",
       "      <td>0.139950</td>\n",
       "      <td>-0.255428</td>\n",
       "      <td>0.015545</td>\n",
       "      <td>-0.014323</td>\n",
       "      <td>...</td>\n",
       "      <td>0.092389</td>\n",
       "      <td>-0.126059</td>\n",
       "      <td>0.140791</td>\n",
       "      <td>0.073669</td>\n",
       "      <td>-0.021216</td>\n",
       "      <td>0.046401</td>\n",
       "      <td>-0.028884</td>\n",
       "      <td>-0.054826</td>\n",
       "      <td>0.213168</td>\n",
       "      <td>1.000000</td>\n",
       "    </tr>\n",
       "  </tbody>\n",
       "</table>\n",
       "<p>81 rows × 81 columns</p>\n",
       "</div>"
      ],
      "text/plain": [
       "                      Id  Building_Class  Zoning_Class  Lot_Extent  Lot_Size  \\\n",
       "Id              1.000000        0.012207     -0.006048    0.000738 -0.033191   \n",
       "Building_Class  0.012207        1.000000      0.035882   -0.233365 -0.139852   \n",
       "Zoning_Class   -0.006048        0.035882      1.000000   -0.084300 -0.034453   \n",
       "Lot_Extent      0.000738       -0.233365     -0.084300    1.000000  0.261663   \n",
       "Lot_Size       -0.033191       -0.139852     -0.034453    0.261663  1.000000   \n",
       "...                  ...             ...           ...         ...       ...   \n",
       "Month_Sold      0.021336       -0.013660     -0.031500   -0.005936  0.001200   \n",
       "Year_Sold       0.000548       -0.021330     -0.020623    0.021644 -0.014256   \n",
       "Sale_Type       0.019422        0.012656      0.097450    0.005389  0.012305   \n",
       "Sale_Condition -0.006059       -0.024822      0.009500    0.017897  0.034178   \n",
       "Sale_Price     -0.021441       -0.084563     -0.166896    0.213776  0.263843   \n",
       "\n",
       "                Road_Type  Lane_Type  Property_Shape  Land_Outline  \\\n",
       "Id               0.008849  -0.001822        0.031270     -0.020053   \n",
       "Building_Class  -0.024937  -0.105878        0.119793     -0.002752   \n",
       "Zoning_Class     0.087656  -0.052033        0.061923     -0.017845   \n",
       "Lot_Extent      -0.023532   0.151485       -0.356086      0.000440   \n",
       "Lot_Size        -0.197129   0.060116       -0.165317     -0.149076   \n",
       "...                   ...        ...             ...           ...   \n",
       "Month_Sold       0.003695   0.013114       -0.033400     -0.011573   \n",
       "Year_Sold       -0.025050   0.020921        0.036384      0.020478   \n",
       "Sale_Type        0.014326   0.008153       -0.001073     -0.025823   \n",
       "Sale_Condition   0.006055   0.035684       -0.038234      0.033766   \n",
       "Sale_Price       0.041057   0.139950       -0.255428      0.015545   \n",
       "\n",
       "                Utility_Type  ...  Pool_Area  Pool_Quality  Fence_Quality  \\\n",
       "Id                  0.013369  ...   0.057184     -0.034038      -0.000942   \n",
       "Building_Class     -0.022865  ...   0.008244     -0.005184       0.086662   \n",
       "Zoning_Class       -0.001193  ...  -0.003130      0.002884      -0.061279   \n",
       "Lot_Extent          0.046062  ...   0.062353     -0.062116      -0.040666   \n",
       "Lot_Size            0.010122  ...   0.077670     -0.065165       0.036052   \n",
       "...                      ...  ...        ...           ...            ...   \n",
       "Month_Sold         -0.051554  ...  -0.033742      0.036374      -0.009855   \n",
       "Year_Sold           0.023355  ...  -0.059683      0.060899      -0.035412   \n",
       "Sale_Type          -0.126768  ...   0.011024     -0.013606      -0.006253   \n",
       "Sale_Condition     -0.089698  ...  -0.067243      0.097418       0.100619   \n",
       "Sale_Price         -0.014323  ...   0.092389     -0.126059       0.140791   \n",
       "\n",
       "                Miscellaneous_Feature  Miscellaneous_Value  Month_Sold  \\\n",
       "Id                           0.036868            -0.006145    0.021336   \n",
       "Building_Class               0.034984            -0.007738   -0.013660   \n",
       "Zoning_Class                 0.000679             0.009290   -0.031500   \n",
       "Lot_Extent                  -0.055588             0.065088   -0.005936   \n",
       "Lot_Size                    -0.103537             0.038064    0.001200   \n",
       "...                               ...                  ...         ...   \n",
       "Month_Sold                  -0.014177            -0.006502    1.000000   \n",
       "Year_Sold                   -0.055981             0.004915   -0.145712   \n",
       "Sale_Type                   -0.003352             0.015793   -0.047362   \n",
       "Sale_Condition               0.003165             0.013040    0.013338   \n",
       "Sale_Price                   0.073669            -0.021216    0.046401   \n",
       "\n",
       "                Year_Sold  Sale_Type  Sale_Condition  Sale_Price  \n",
       "Id               0.000548   0.019422       -0.006059   -0.021441  \n",
       "Building_Class  -0.021330   0.012656       -0.024822   -0.084563  \n",
       "Zoning_Class    -0.020623   0.097450        0.009500   -0.166896  \n",
       "Lot_Extent       0.021644   0.005389        0.017897    0.213776  \n",
       "Lot_Size        -0.014256   0.012305        0.034178    0.263843  \n",
       "...                   ...        ...             ...         ...  \n",
       "Month_Sold      -0.145712  -0.047362        0.013338    0.046401  \n",
       "Year_Sold        1.000000  -0.002357        0.003861   -0.028884  \n",
       "Sale_Type       -0.002357   1.000000        0.184031   -0.054826  \n",
       "Sale_Condition   0.003861   0.184031        1.000000    0.213168  \n",
       "Sale_Price      -0.028884  -0.054826        0.213168    1.000000  \n",
       "\n",
       "[81 rows x 81 columns]"
      ]
     },
     "execution_count": 28,
     "metadata": {},
     "output_type": "execute_result"
    }
   ],
   "source": [
    "data1.corr()"
   ]
  },
  {
   "cell_type": "code",
   "execution_count": 29,
   "id": "21c08a76",
   "metadata": {},
   "outputs": [],
   "source": [
    "# Create correlation matrix\n",
    "corr_matrix = data1.corr().abs()"
   ]
  },
  {
   "cell_type": "code",
   "execution_count": 30,
   "id": "894ae1bf",
   "metadata": {},
   "outputs": [],
   "source": [
    "# Select upper triangle of correlation matrix\n",
    "upper = corr_matrix.where(np.triu(np.ones(corr_matrix.shape), k=1).astype(np.bool))"
   ]
  },
  {
   "cell_type": "code",
   "execution_count": 31,
   "id": "9624edc9",
   "metadata": {},
   "outputs": [],
   "source": [
    "\n",
    "# Find features with correlation greater than 0.95\n",
    "to_drop = [column for column in upper.columns if any(upper[column] > 0.7)]"
   ]
  },
  {
   "cell_type": "code",
   "execution_count": 32,
   "id": "0c513612",
   "metadata": {},
   "outputs": [
    {
     "data": {
      "text/plain": [
       "['House_Type',\n",
       " 'Exterior2nd',\n",
       " 'BsmtFinSF2',\n",
       " 'First_Floor_Area',\n",
       " 'Rooms_Above_Grade',\n",
       " 'Fireplace_Quality',\n",
       " 'Pool_Quality',\n",
       " 'Sale_Price']"
      ]
     },
     "execution_count": 32,
     "metadata": {},
     "output_type": "execute_result"
    }
   ],
   "source": [
    "to_drop"
   ]
  },
  {
   "cell_type": "code",
   "execution_count": 33,
   "id": "742754c8",
   "metadata": {},
   "outputs": [],
   "source": [
    "data1.drop(to_drop, axis=1, inplace=True)"
   ]
  },
  {
   "cell_type": "code",
   "execution_count": 34,
   "id": "687920b8",
   "metadata": {},
   "outputs": [
    {
     "data": {
      "text/plain": [
       "(1459, 73)"
      ]
     },
     "execution_count": 34,
     "metadata": {},
     "output_type": "execute_result"
    }
   ],
   "source": [
    "data1.shape"
   ]
  },
  {
   "cell_type": "code",
   "execution_count": 35,
   "id": "dab4dedf",
   "metadata": {},
   "outputs": [],
   "source": [
    "#def correlation(dataset, threshold):\n",
    "#    col_corr = set() # Set of all the names of deleted columns\n",
    "#    corr_matrix = dataset.corr()\n",
    "#    for i in range(len(corr_matrix.columns)):\n",
    "#        for j in range(i):\n",
    "#            if (corr_matrix.iloc[i, j] >= threshold) and (corr_matrix.columns[j] not in col_corr):\n",
    "#                colname = corr_matrix.columns[i] # getting the name of column\n",
    "#                col_corr.add(colname)\n",
    "#                if colname in dataset.columns:\n",
    "#                    del dataset[colname] # deleting the column from the dataset\n",
    "#"
   ]
  },
  {
   "cell_type": "code",
   "execution_count": 36,
   "id": "64f7a126",
   "metadata": {},
   "outputs": [],
   "source": [
    "#correlation(data1,0.9)"
   ]
  },
  {
   "cell_type": "code",
   "execution_count": 37,
   "id": "c7adc24a",
   "metadata": {},
   "outputs": [
    {
     "data": {
      "text/plain": [
       "(1459, 73)"
      ]
     },
     "execution_count": 37,
     "metadata": {},
     "output_type": "execute_result"
    }
   ],
   "source": [
    "data1.shape"
   ]
  },
  {
   "cell_type": "code",
   "execution_count": 38,
   "id": "4c5c0c15",
   "metadata": {},
   "outputs": [
    {
     "data": {
      "text/plain": [
       "Id                     int64\n",
       "Building_Class         int64\n",
       "Zoning_Class           int32\n",
       "Lot_Extent             int64\n",
       "Lot_Size               int64\n",
       "                       ...  \n",
       "Miscellaneous_Value    int64\n",
       "Month_Sold             int64\n",
       "Year_Sold              int64\n",
       "Sale_Type              int32\n",
       "Sale_Condition         int32\n",
       "Length: 80, dtype: object"
      ]
     },
     "execution_count": 38,
     "metadata": {},
     "output_type": "execute_result"
    }
   ],
   "source": []
  },
  {
   "cell_type": "code",
   "execution_count": 39,
   "id": "bc056d48",
   "metadata": {},
   "outputs": [
    {
     "data": {
      "text/html": [
       "<div>\n",
       "<style scoped>\n",
       "    .dataframe tbody tr th:only-of-type {\n",
       "        vertical-align: middle;\n",
       "    }\n",
       "\n",
       "    .dataframe tbody tr th {\n",
       "        vertical-align: top;\n",
       "    }\n",
       "\n",
       "    .dataframe thead th {\n",
       "        text-align: right;\n",
       "    }\n",
       "</style>\n",
       "<table border=\"1\" class=\"dataframe\">\n",
       "  <thead>\n",
       "    <tr style=\"text-align: right;\">\n",
       "      <th></th>\n",
       "      <th>Id</th>\n",
       "      <th>Building_Class</th>\n",
       "      <th>Zoning_Class</th>\n",
       "      <th>Lot_Extent</th>\n",
       "      <th>Lot_Size</th>\n",
       "      <th>Road_Type</th>\n",
       "      <th>Lane_Type</th>\n",
       "      <th>Property_Shape</th>\n",
       "      <th>Land_Outline</th>\n",
       "      <th>Utility_Type</th>\n",
       "      <th>...</th>\n",
       "      <th>Three_Season_Lobby_Area</th>\n",
       "      <th>Screen_Lobby_Area</th>\n",
       "      <th>Pool_Area</th>\n",
       "      <th>Fence_Quality</th>\n",
       "      <th>Miscellaneous_Feature</th>\n",
       "      <th>Miscellaneous_Value</th>\n",
       "      <th>Month_Sold</th>\n",
       "      <th>Year_Sold</th>\n",
       "      <th>Sale_Type</th>\n",
       "      <th>Sale_Condition</th>\n",
       "    </tr>\n",
       "  </thead>\n",
       "  <tbody>\n",
       "    <tr>\n",
       "      <th>0</th>\n",
       "      <td>1</td>\n",
       "      <td>60</td>\n",
       "      <td>3</td>\n",
       "      <td>36</td>\n",
       "      <td>8450</td>\n",
       "      <td>1</td>\n",
       "      <td>2</td>\n",
       "      <td>3</td>\n",
       "      <td>3</td>\n",
       "      <td>0</td>\n",
       "      <td>...</td>\n",
       "      <td>0</td>\n",
       "      <td>0</td>\n",
       "      <td>0</td>\n",
       "      <td>4</td>\n",
       "      <td>4</td>\n",
       "      <td>0</td>\n",
       "      <td>2</td>\n",
       "      <td>2008</td>\n",
       "      <td>8</td>\n",
       "      <td>4</td>\n",
       "    </tr>\n",
       "    <tr>\n",
       "      <th>1</th>\n",
       "      <td>2</td>\n",
       "      <td>20</td>\n",
       "      <td>3</td>\n",
       "      <td>51</td>\n",
       "      <td>9600</td>\n",
       "      <td>1</td>\n",
       "      <td>2</td>\n",
       "      <td>3</td>\n",
       "      <td>3</td>\n",
       "      <td>0</td>\n",
       "      <td>...</td>\n",
       "      <td>0</td>\n",
       "      <td>0</td>\n",
       "      <td>0</td>\n",
       "      <td>4</td>\n",
       "      <td>4</td>\n",
       "      <td>0</td>\n",
       "      <td>5</td>\n",
       "      <td>2007</td>\n",
       "      <td>8</td>\n",
       "      <td>4</td>\n",
       "    </tr>\n",
       "    <tr>\n",
       "      <th>2</th>\n",
       "      <td>3</td>\n",
       "      <td>60</td>\n",
       "      <td>3</td>\n",
       "      <td>39</td>\n",
       "      <td>11250</td>\n",
       "      <td>1</td>\n",
       "      <td>2</td>\n",
       "      <td>0</td>\n",
       "      <td>3</td>\n",
       "      <td>0</td>\n",
       "      <td>...</td>\n",
       "      <td>0</td>\n",
       "      <td>0</td>\n",
       "      <td>0</td>\n",
       "      <td>4</td>\n",
       "      <td>4</td>\n",
       "      <td>0</td>\n",
       "      <td>9</td>\n",
       "      <td>2008</td>\n",
       "      <td>8</td>\n",
       "      <td>4</td>\n",
       "    </tr>\n",
       "    <tr>\n",
       "      <th>3</th>\n",
       "      <td>4</td>\n",
       "      <td>70</td>\n",
       "      <td>3</td>\n",
       "      <td>31</td>\n",
       "      <td>9550</td>\n",
       "      <td>1</td>\n",
       "      <td>2</td>\n",
       "      <td>0</td>\n",
       "      <td>3</td>\n",
       "      <td>0</td>\n",
       "      <td>...</td>\n",
       "      <td>0</td>\n",
       "      <td>0</td>\n",
       "      <td>0</td>\n",
       "      <td>4</td>\n",
       "      <td>4</td>\n",
       "      <td>0</td>\n",
       "      <td>2</td>\n",
       "      <td>2006</td>\n",
       "      <td>8</td>\n",
       "      <td>0</td>\n",
       "    </tr>\n",
       "    <tr>\n",
       "      <th>4</th>\n",
       "      <td>5</td>\n",
       "      <td>60</td>\n",
       "      <td>3</td>\n",
       "      <td>55</td>\n",
       "      <td>14260</td>\n",
       "      <td>1</td>\n",
       "      <td>2</td>\n",
       "      <td>0</td>\n",
       "      <td>3</td>\n",
       "      <td>0</td>\n",
       "      <td>...</td>\n",
       "      <td>0</td>\n",
       "      <td>0</td>\n",
       "      <td>0</td>\n",
       "      <td>4</td>\n",
       "      <td>4</td>\n",
       "      <td>0</td>\n",
       "      <td>12</td>\n",
       "      <td>2008</td>\n",
       "      <td>8</td>\n",
       "      <td>4</td>\n",
       "    </tr>\n",
       "  </tbody>\n",
       "</table>\n",
       "<p>5 rows × 73 columns</p>\n",
       "</div>"
      ],
      "text/plain": [
       "   Id  Building_Class  Zoning_Class  Lot_Extent  Lot_Size  Road_Type  \\\n",
       "0   1              60             3          36      8450          1   \n",
       "1   2              20             3          51      9600          1   \n",
       "2   3              60             3          39     11250          1   \n",
       "3   4              70             3          31      9550          1   \n",
       "4   5              60             3          55     14260          1   \n",
       "\n",
       "   Lane_Type  Property_Shape  Land_Outline  Utility_Type  ...  \\\n",
       "0          2               3             3             0  ...   \n",
       "1          2               3             3             0  ...   \n",
       "2          2               0             3             0  ...   \n",
       "3          2               0             3             0  ...   \n",
       "4          2               0             3             0  ...   \n",
       "\n",
       "   Three_Season_Lobby_Area  Screen_Lobby_Area  Pool_Area  Fence_Quality  \\\n",
       "0                        0                  0          0              4   \n",
       "1                        0                  0          0              4   \n",
       "2                        0                  0          0              4   \n",
       "3                        0                  0          0              4   \n",
       "4                        0                  0          0              4   \n",
       "\n",
       "   Miscellaneous_Feature  Miscellaneous_Value  Month_Sold  Year_Sold  \\\n",
       "0                      4                    0           2       2008   \n",
       "1                      4                    0           5       2007   \n",
       "2                      4                    0           9       2008   \n",
       "3                      4                    0           2       2006   \n",
       "4                      4                    0          12       2008   \n",
       "\n",
       "   Sale_Type  Sale_Condition  \n",
       "0          8               4  \n",
       "1          8               4  \n",
       "2          8               4  \n",
       "3          8               0  \n",
       "4          8               4  \n",
       "\n",
       "[5 rows x 73 columns]"
      ]
     },
     "execution_count": 39,
     "metadata": {},
     "output_type": "execute_result"
    }
   ],
   "source": [
    "data1.head()"
   ]
  },
  {
   "cell_type": "code",
   "execution_count": 40,
   "id": "02e2f949",
   "metadata": {},
   "outputs": [],
   "source": [
    "#correlation(data2,0.4)"
   ]
  },
  {
   "cell_type": "code",
   "execution_count": 41,
   "id": "3489e8b6",
   "metadata": {},
   "outputs": [],
   "source": [
    "#data2.shape"
   ]
  },
  {
   "cell_type": "code",
   "execution_count": 54,
   "id": "835f3858",
   "metadata": {},
   "outputs": [],
   "source": [
    "x=data1.iloc[:,1:77]"
   ]
  },
  {
   "cell_type": "code",
   "execution_count": 56,
   "id": "37021a6c",
   "metadata": {},
   "outputs": [],
   "source": [
    "from sklearn import linear_model\n",
    "lm=linear_model.LinearRegression()"
   ]
  },
  {
   "cell_type": "code",
   "execution_count": 57,
   "id": "e53a3591",
   "metadata": {},
   "outputs": [
    {
     "data": {
      "text/plain": [
       "LinearRegression()"
      ]
     },
     "execution_count": 57,
     "metadata": {},
     "output_type": "execute_result"
    }
   ],
   "source": [
    "lm.fit(x,y)"
   ]
  },
  {
   "cell_type": "code",
   "execution_count": 68,
   "id": "7ef66eb7",
   "metadata": {},
   "outputs": [
    {
     "data": {
      "text/plain": [
       "array([215899.84723808, 200065.56877773, 225332.88340051, ...,\n",
       "       221728.26167118, 251843.56721108, 146779.44180606])"
      ]
     },
     "execution_count": 68,
     "metadata": {},
     "output_type": "execute_result"
    }
   ],
   "source": [
    "lp1 = lm.predict(x_test)\n",
    "abs(lp1)"
   ]
  },
  {
   "cell_type": "code",
   "execution_count": 69,
   "id": "a013eb1c",
   "metadata": {},
   "outputs": [
    {
     "data": {
      "text/plain": [
       "0       -7399.847238\n",
       "1      -18565.568778\n",
       "2       -1832.883401\n",
       "3      -34359.528629\n",
       "4      -39194.519109\n",
       "            ...     \n",
       "1454    -9844.877749\n",
       "1455     1735.004774\n",
       "1456   -11728.261671\n",
       "1457    14656.432789\n",
       "1458    -4654.441806\n",
       "Name: Sale_Price, Length: 1459, dtype: float64"
      ]
     },
     "execution_count": 69,
     "metadata": {},
     "output_type": "execute_result"
    }
   ],
   "source": [
    "err_lm = y - lp1\n",
    "err_lm"
   ]
  },
  {
   "cell_type": "code",
   "execution_count": 70,
   "id": "8d42698c",
   "metadata": {},
   "outputs": [
    {
     "data": {
      "text/plain": [
       "11.047012263129783"
      ]
     },
     "execution_count": 70,
     "metadata": {},
     "output_type": "execute_result"
    }
   ],
   "source": [
    "MAPE = np.mean(np.abs(err_lm)*100/y)\n",
    "MAPE"
   ]
  },
  {
   "cell_type": "code",
   "execution_count": 71,
   "id": "302fe650",
   "metadata": {},
   "outputs": [
    {
     "data": {
      "text/plain": [
       "88.95298773687021"
      ]
     },
     "execution_count": 71,
     "metadata": {},
     "output_type": "execute_result"
    }
   ],
   "source": [
    "Acc=(100-MAPE)\n",
    "Acc"
   ]
  },
  {
   "cell_type": "code",
   "execution_count": 60,
   "id": "ad001800",
   "metadata": {},
   "outputs": [],
   "source": [
    "from sklearn.linear_model import Lasso"
   ]
  },
  {
   "cell_type": "code",
   "execution_count": 61,
   "id": "78a1aee0",
   "metadata": {},
   "outputs": [],
   "source": [
    "l=Lasso()"
   ]
  },
  {
   "cell_type": "code",
   "execution_count": 65,
   "id": "d0cd4578",
   "metadata": {},
   "outputs": [
    {
     "data": {
      "text/plain": [
       "Lasso()"
      ]
     },
     "execution_count": 65,
     "metadata": {},
     "output_type": "execute_result"
    }
   ],
   "source": [
    "l.fit(x,y)"
   ]
  },
  {
   "cell_type": "code",
   "execution_count": 66,
   "id": "a4d4ab24",
   "metadata": {},
   "outputs": [
    {
     "data": {
      "text/plain": [
       "array([215899.71233627, 200054.90246943, 225339.29360142, ...,\n",
       "       221731.3243866 , 251832.10720712, 146733.0648386 ])"
      ]
     },
     "execution_count": 66,
     "metadata": {},
     "output_type": "execute_result"
    }
   ],
   "source": [
    "pred_on=l.predict(x)\n",
    "pred_on"
   ]
  },
  {
   "cell_type": "code",
   "execution_count": 76,
   "id": "30a450e2",
   "metadata": {},
   "outputs": [
    {
     "data": {
      "text/plain": [
       "array([-1.64681341e+02, -7.04950856e+02, -1.80791984e+01,  3.90177110e-01,\n",
       "        2.94892517e+04,  4.94674935e+03, -1.20985474e+03,  3.45067015e+03,\n",
       "       -4.47682494e+04,  5.95091999e+01,  6.10062254e+03,  4.18234866e+02,\n",
       "       -9.86347693e+02, -9.11708352e+03, -1.03460509e+03,  1.11809060e+04,\n",
       "        5.10695072e+03,  1.59532800e+02,  5.17173640e+01,  2.29237944e+03,\n",
       "        2.66689278e+04, -7.12796510e+02,  3.03664382e+03,  4.16268940e+01,\n",
       "       -9.07178887e+03,  7.15108092e+02,  2.46476297e+03, -8.79011220e+03,\n",
       "        2.84551581e+03, -3.96158220e+03, -5.83706495e+02, -2.51446038e+00,\n",
       "        8.59575312e+02, -1.35781389e+01,  1.64887795e+01, -2.38590003e+03,\n",
       "       -1.29434580e+03, -1.77165467e+03, -8.29020435e+02,  3.81161279e+00,\n",
       "       -3.96031338e+01,  5.03261939e+01,  5.47149784e+03, -5.36004772e+02,\n",
       "        3.54537804e+03, -8.63506067e+02, -1.21455012e+03, -7.89735551e+03,\n",
       "       -8.50611805e+03,  2.07578145e+03,  6.10895911e+03,  1.23305491e+03,\n",
       "       -9.67962197e+00,  4.21381036e+02,  1.15238310e+04,  2.47861102e+00,\n",
       "        1.07787520e+03,  2.04838072e+03,  5.96102001e+02, -1.24907226e+00,\n",
       "        1.22069818e+01,  1.51703068e+01,  2.82124490e+01,  3.45054133e+01,\n",
       "       -9.89242847e+00,  2.05146012e+02,  1.49926389e+03,  6.69046358e-01,\n",
       "       -3.03503720e+02, -9.89945282e+02, -7.61920328e+02,  2.90726191e+03])"
      ]
     },
     "execution_count": 76,
     "metadata": {},
     "output_type": "execute_result"
    }
   ],
   "source": [
    "l.coef_"
   ]
  },
  {
   "cell_type": "code",
   "execution_count": 77,
   "id": "6334262a",
   "metadata": {},
   "outputs": [
    {
     "data": {
      "text/plain": [
       "1438464.1994815602"
      ]
     },
     "execution_count": 77,
     "metadata": {},
     "output_type": "execute_result"
    }
   ],
   "source": [
    "l.intercept_"
   ]
  },
  {
   "cell_type": "code",
   "execution_count": 78,
   "id": "3b983cc5",
   "metadata": {},
   "outputs": [],
   "source": [
    "\n",
    "\n",
    "import pandas as pd\n",
    "from IPython.display import display\n",
    "\n",
    "pd.options.display.max_columns = None"
   ]
  },
  {
   "cell_type": "code",
   "execution_count": 79,
   "id": "72dcb4bf",
   "metadata": {},
   "outputs": [
    {
     "data": {
      "text/html": [
       "<div>\n",
       "<style scoped>\n",
       "    .dataframe tbody tr th:only-of-type {\n",
       "        vertical-align: middle;\n",
       "    }\n",
       "\n",
       "    .dataframe tbody tr th {\n",
       "        vertical-align: top;\n",
       "    }\n",
       "\n",
       "    .dataframe thead th {\n",
       "        text-align: right;\n",
       "    }\n",
       "</style>\n",
       "<table border=\"1\" class=\"dataframe\">\n",
       "  <thead>\n",
       "    <tr style=\"text-align: right;\">\n",
       "      <th></th>\n",
       "      <th>importance</th>\n",
       "      <th>Columns</th>\n",
       "    </tr>\n",
       "  </thead>\n",
       "  <tbody>\n",
       "    <tr>\n",
       "      <th>0</th>\n",
       "      <td>-164.681341</td>\n",
       "      <td>Building_Class</td>\n",
       "    </tr>\n",
       "    <tr>\n",
       "      <th>1</th>\n",
       "      <td>-704.950856</td>\n",
       "      <td>Zoning_Class</td>\n",
       "    </tr>\n",
       "    <tr>\n",
       "      <th>2</th>\n",
       "      <td>-18.079198</td>\n",
       "      <td>Lot_Extent</td>\n",
       "    </tr>\n",
       "    <tr>\n",
       "      <th>3</th>\n",
       "      <td>0.390177</td>\n",
       "      <td>Lot_Size</td>\n",
       "    </tr>\n",
       "    <tr>\n",
       "      <th>4</th>\n",
       "      <td>29489.251720</td>\n",
       "      <td>Road_Type</td>\n",
       "    </tr>\n",
       "    <tr>\n",
       "      <th>...</th>\n",
       "      <td>...</td>\n",
       "      <td>...</td>\n",
       "    </tr>\n",
       "    <tr>\n",
       "      <th>67</th>\n",
       "      <td>0.669046</td>\n",
       "      <td>Miscellaneous_Value</td>\n",
       "    </tr>\n",
       "    <tr>\n",
       "      <th>68</th>\n",
       "      <td>-303.503720</td>\n",
       "      <td>Month_Sold</td>\n",
       "    </tr>\n",
       "    <tr>\n",
       "      <th>69</th>\n",
       "      <td>-989.945282</td>\n",
       "      <td>Year_Sold</td>\n",
       "    </tr>\n",
       "    <tr>\n",
       "      <th>70</th>\n",
       "      <td>-761.920328</td>\n",
       "      <td>Sale_Type</td>\n",
       "    </tr>\n",
       "    <tr>\n",
       "      <th>71</th>\n",
       "      <td>2907.261906</td>\n",
       "      <td>Sale_Condition</td>\n",
       "    </tr>\n",
       "  </tbody>\n",
       "</table>\n",
       "<p>72 rows × 2 columns</p>\n",
       "</div>"
      ],
      "text/plain": [
       "      importance              Columns\n",
       "0    -164.681341       Building_Class\n",
       "1    -704.950856         Zoning_Class\n",
       "2     -18.079198           Lot_Extent\n",
       "3       0.390177             Lot_Size\n",
       "4   29489.251720            Road_Type\n",
       "..           ...                  ...\n",
       "67      0.669046  Miscellaneous_Value\n",
       "68   -303.503720           Month_Sold\n",
       "69   -989.945282            Year_Sold\n",
       "70   -761.920328            Sale_Type\n",
       "71   2907.261906       Sale_Condition\n",
       "\n",
       "[72 rows x 2 columns]"
      ]
     },
     "execution_count": 79,
     "metadata": {},
     "output_type": "execute_result"
    }
   ],
   "source": [
    "\n",
    "data_f=pd.DataFrame({\"importance\":list(l.coef_),\"Columns\":list(x)})\n",
    "pd.set_option('display.max_columns', None)\n",
    "data_f"
   ]
  },
  {
   "cell_type": "code",
   "execution_count": 88,
   "id": "0c0e306d",
   "metadata": {},
   "outputs": [],
   "source": [
    "data_f.to_excel('FeaturesIMP.xlsx')"
   ]
  },
  {
   "cell_type": "code",
   "execution_count": 81,
   "id": "4a21a59a",
   "metadata": {},
   "outputs": [
    {
     "data": {
      "text/plain": [
       "0       -7399.712336\n",
       "1      -18554.902469\n",
       "2       -1839.293601\n",
       "3      -34337.668622\n",
       "4      -39188.486761\n",
       "            ...     \n",
       "1454    -9858.132017\n",
       "1455     1721.862905\n",
       "1456   -11731.324387\n",
       "1457    14667.892793\n",
       "1458    -4608.064839\n",
       "Name: Sale_Price, Length: 1459, dtype: float64"
      ]
     },
     "execution_count": 81,
     "metadata": {},
     "output_type": "execute_result"
    }
   ],
   "source": [
    "errLaso = y - pred_on\n",
    "errLaso"
   ]
  },
  {
   "cell_type": "code",
   "execution_count": 82,
   "id": "7854a421",
   "metadata": {},
   "outputs": [
    {
     "data": {
      "text/plain": [
       "0.8518615326196568"
      ]
     },
     "execution_count": 82,
     "metadata": {},
     "output_type": "execute_result"
    }
   ],
   "source": [
    "R2=l.score(x,y)\n",
    "R2"
   ]
  },
  {
   "cell_type": "code",
   "execution_count": 83,
   "id": "9df3b9c2",
   "metadata": {},
   "outputs": [
    {
     "data": {
      "text/plain": [
       "0.8452823170196702"
      ]
     },
     "execution_count": 83,
     "metadata": {},
     "output_type": "execute_result"
    }
   ],
   "source": [
    "Ajrsq= 1- (((1-R2)*(1459-1))/(1459-62-1))\n",
    "Ajrsq"
   ]
  },
  {
   "cell_type": "code",
   "execution_count": 84,
   "id": "de6ccce6",
   "metadata": {},
   "outputs": [
    {
     "data": {
      "text/plain": [
       "11.0458848074672"
      ]
     },
     "execution_count": 84,
     "metadata": {},
     "output_type": "execute_result"
    }
   ],
   "source": [
    "MAPELasso = np.mean(np.abs(errLaso)*100/y)\n",
    "MAPELasso"
   ]
  },
  {
   "cell_type": "code",
   "execution_count": 85,
   "id": "c64f2f53",
   "metadata": {},
   "outputs": [
    {
     "data": {
      "text/plain": [
       "88.9541151925328"
      ]
     },
     "execution_count": 85,
     "metadata": {},
     "output_type": "execute_result"
    }
   ],
   "source": [
    "Acc=(100-MAPELasso)\n",
    "Acc"
   ]
  }
 ],
 "metadata": {
  "kernelspec": {
   "display_name": "Python 3 (ipykernel)",
   "language": "python",
   "name": "python3"
  },
  "language_info": {
   "codemirror_mode": {
    "name": "ipython",
    "version": 3
   },
   "file_extension": ".py",
   "mimetype": "text/x-python",
   "name": "python",
   "nbconvert_exporter": "python",
   "pygments_lexer": "ipython3",
   "version": "3.9.7"
  }
 },
 "nbformat": 4,
 "nbformat_minor": 5
}
